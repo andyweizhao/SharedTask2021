{
 "cells": [
  {
   "cell_type": "code",
   "execution_count": 1,
   "metadata": {},
   "outputs": [
    {
     "name": "stdout",
     "output_type": "stream",
     "text": [
      "Requirement already satisfied: scikit-learn==0.23.1 in /home/mfomicheva/miniconda3/envs/eval4nlp/lib/python3.6/site-packages (from -r ../requirements.txt (line 1)) (0.23.1)\n",
      "Requirement already satisfied: numpy==1.19.0 in /home/mfomicheva/miniconda3/envs/eval4nlp/lib/python3.6/site-packages (from -r ../requirements.txt (line 2)) (1.19.0)\n",
      "Requirement already satisfied: scipy==1.5.1 in /home/mfomicheva/miniconda3/envs/eval4nlp/lib/python3.6/site-packages (from -r ../requirements.txt (line 3)) (1.5.1)\n",
      "Requirement already satisfied: joblib>=0.11 in /home/mfomicheva/miniconda3/envs/eval4nlp/lib/python3.6/site-packages (from scikit-learn==0.23.1->-r ../requirements.txt (line 1)) (1.0.1)\n",
      "Requirement already satisfied: threadpoolctl>=2.0.0 in /home/mfomicheva/miniconda3/envs/eval4nlp/lib/python3.6/site-packages (from scikit-learn==0.23.1->-r ../requirements.txt (line 1)) (2.1.0)\n",
      "Requirement already satisfied: transquest in /home/mfomicheva/miniconda3/envs/eval4nlp/lib/python3.6/site-packages (1.1.1)\n",
      "Requirement already satisfied: regex in /home/mfomicheva/miniconda3/envs/eval4nlp/lib/python3.6/site-packages (from transquest) (2021.4.4)\n",
      "Requirement already satisfied: scipy in /home/mfomicheva/miniconda3/envs/eval4nlp/lib/python3.6/site-packages (from transquest) (1.5.1)\n",
      "Requirement already satisfied: requests in /home/mfomicheva/miniconda3/envs/eval4nlp/lib/python3.6/site-packages (from transquest) (2.25.1)\n",
      "Requirement already satisfied: scikit-learn in /home/mfomicheva/miniconda3/envs/eval4nlp/lib/python3.6/site-packages (from transquest) (0.23.1)\n",
      "Requirement already satisfied: wandb in /home/mfomicheva/miniconda3/envs/eval4nlp/lib/python3.6/site-packages (from transquest) (0.10.31)\n",
      "Requirement already satisfied: tensorboardx in /home/mfomicheva/miniconda3/envs/eval4nlp/lib/python3.6/site-packages (from transquest) (2.2)\n",
      "Requirement already satisfied: sentencepiece in /home/mfomicheva/miniconda3/envs/eval4nlp/lib/python3.6/site-packages (from transquest) (0.1.95)\n",
      "Requirement already satisfied: pandas in /home/mfomicheva/miniconda3/envs/eval4nlp/lib/python3.6/site-packages (from transquest) (1.1.5)\n",
      "Requirement already satisfied: tokenizers in /home/mfomicheva/miniconda3/envs/eval4nlp/lib/python3.6/site-packages (from transquest) (0.10.3)\n",
      "Requirement already satisfied: onnxruntime in /home/mfomicheva/miniconda3/envs/eval4nlp/lib/python3.6/site-packages (from transquest) (1.8.0)\n",
      "Requirement already satisfied: tqdm>=4.47.0 in /home/mfomicheva/miniconda3/envs/eval4nlp/lib/python3.6/site-packages (from transquest) (4.61.0)\n",
      "Requirement already satisfied: seqeval in /home/mfomicheva/miniconda3/envs/eval4nlp/lib/python3.6/site-packages (from transquest) (1.2.2)\n",
      "Requirement already satisfied: matplotlib in /home/mfomicheva/miniconda3/envs/eval4nlp/lib/python3.6/site-packages (from transquest) (3.3.4)\n",
      "Requirement already satisfied: transformers>=4.2.0 in /home/mfomicheva/miniconda3/envs/eval4nlp/lib/python3.6/site-packages (from transquest) (4.6.1)\n",
      "Requirement already satisfied: numpy in /home/mfomicheva/miniconda3/envs/eval4nlp/lib/python3.6/site-packages (from transquest) (1.19.0)\n",
      "Requirement already satisfied: importlib-metadata in /home/mfomicheva/miniconda3/envs/eval4nlp/lib/python3.6/site-packages (from transformers>=4.2.0->transquest) (4.5.0)\n",
      "Requirement already satisfied: huggingface-hub==0.0.8 in /home/mfomicheva/miniconda3/envs/eval4nlp/lib/python3.6/site-packages (from transformers>=4.2.0->transquest) (0.0.8)\n",
      "Requirement already satisfied: packaging in /home/mfomicheva/miniconda3/envs/eval4nlp/lib/python3.6/site-packages (from transformers>=4.2.0->transquest) (20.9)\n",
      "Requirement already satisfied: dataclasses in /home/mfomicheva/miniconda3/envs/eval4nlp/lib/python3.6/site-packages (from transformers>=4.2.0->transquest) (0.8)\n",
      "Requirement already satisfied: sacremoses in /home/mfomicheva/miniconda3/envs/eval4nlp/lib/python3.6/site-packages (from transformers>=4.2.0->transquest) (0.0.45)\n",
      "Requirement already satisfied: filelock in /home/mfomicheva/miniconda3/envs/eval4nlp/lib/python3.6/site-packages (from transformers>=4.2.0->transquest) (3.0.12)\n",
      "Requirement already satisfied: zipp>=0.5 in /home/mfomicheva/miniconda3/envs/eval4nlp/lib/python3.6/site-packages (from importlib-metadata->transformers>=4.2.0->transquest) (3.4.1)\n",
      "Requirement already satisfied: typing-extensions>=3.6.4 in /home/mfomicheva/miniconda3/envs/eval4nlp/lib/python3.6/site-packages (from importlib-metadata->transformers>=4.2.0->transquest) (3.10.0.0)\n",
      "Requirement already satisfied: python-dateutil>=2.1 in /home/mfomicheva/miniconda3/envs/eval4nlp/lib/python3.6/site-packages (from matplotlib->transquest) (2.8.1)\n",
      "Requirement already satisfied: kiwisolver>=1.0.1 in /home/mfomicheva/miniconda3/envs/eval4nlp/lib/python3.6/site-packages (from matplotlib->transquest) (1.3.1)\n",
      "Requirement already satisfied: pyparsing!=2.0.4,!=2.1.2,!=2.1.6,>=2.0.3 in /home/mfomicheva/miniconda3/envs/eval4nlp/lib/python3.6/site-packages (from matplotlib->transquest) (2.4.7)\n",
      "Requirement already satisfied: pillow>=6.2.0 in /home/mfomicheva/miniconda3/envs/eval4nlp/lib/python3.6/site-packages (from matplotlib->transquest) (8.2.0)\n",
      "Requirement already satisfied: cycler>=0.10 in /home/mfomicheva/miniconda3/envs/eval4nlp/lib/python3.6/site-packages (from matplotlib->transquest) (0.10.0)\n",
      "Requirement already satisfied: six in /home/mfomicheva/miniconda3/envs/eval4nlp/lib/python3.6/site-packages (from cycler>=0.10->matplotlib->transquest) (1.16.0)\n",
      "Requirement already satisfied: protobuf in /home/mfomicheva/miniconda3/envs/eval4nlp/lib/python3.6/site-packages (from onnxruntime->transquest) (3.17.3)\n",
      "Requirement already satisfied: flatbuffers in /home/mfomicheva/miniconda3/envs/eval4nlp/lib/python3.6/site-packages (from onnxruntime->transquest) (2.0)\n",
      "Requirement already satisfied: pytz>=2017.2 in /home/mfomicheva/miniconda3/envs/eval4nlp/lib/python3.6/site-packages (from pandas->transquest) (2021.1)\n",
      "Requirement already satisfied: certifi>=2017.4.17 in /home/mfomicheva/miniconda3/envs/eval4nlp/lib/python3.6/site-packages (from requests->transquest) (2021.5.30)\n",
      "Requirement already satisfied: chardet<5,>=3.0.2 in /home/mfomicheva/miniconda3/envs/eval4nlp/lib/python3.6/site-packages (from requests->transquest) (4.0.0)\n",
      "Requirement already satisfied: idna<3,>=2.5 in /home/mfomicheva/miniconda3/envs/eval4nlp/lib/python3.6/site-packages (from requests->transquest) (2.10)\n",
      "Requirement already satisfied: urllib3<1.27,>=1.21.1 in /home/mfomicheva/miniconda3/envs/eval4nlp/lib/python3.6/site-packages (from requests->transquest) (1.26.5)\n",
      "Requirement already satisfied: click in /home/mfomicheva/miniconda3/envs/eval4nlp/lib/python3.6/site-packages (from sacremoses->transformers>=4.2.0->transquest) (8.0.1)\n",
      "Requirement already satisfied: joblib in /home/mfomicheva/miniconda3/envs/eval4nlp/lib/python3.6/site-packages (from sacremoses->transformers>=4.2.0->transquest) (1.0.1)\n",
      "Requirement already satisfied: threadpoolctl>=2.0.0 in /home/mfomicheva/miniconda3/envs/eval4nlp/lib/python3.6/site-packages (from scikit-learn->transquest) (2.1.0)\n",
      "Requirement already satisfied: GitPython>=1.0.0 in /home/mfomicheva/miniconda3/envs/eval4nlp/lib/python3.6/site-packages (from wandb->transquest) (3.1.17)\n",
      "Requirement already satisfied: subprocess32>=3.5.3 in /home/mfomicheva/miniconda3/envs/eval4nlp/lib/python3.6/site-packages (from wandb->transquest) (3.5.4)\n",
      "Requirement already satisfied: shortuuid>=0.5.0 in /home/mfomicheva/miniconda3/envs/eval4nlp/lib/python3.6/site-packages (from wandb->transquest) (1.0.1)\n",
      "Requirement already satisfied: PyYAML in /home/mfomicheva/miniconda3/envs/eval4nlp/lib/python3.6/site-packages (from wandb->transquest) (5.4.1)\n",
      "Requirement already satisfied: sentry-sdk>=0.4.0 in /home/mfomicheva/miniconda3/envs/eval4nlp/lib/python3.6/site-packages (from wandb->transquest) (1.1.0)\n",
      "Requirement already satisfied: pathtools in /home/mfomicheva/miniconda3/envs/eval4nlp/lib/python3.6/site-packages (from wandb->transquest) (0.1.2)\n",
      "Requirement already satisfied: configparser>=3.8.1 in /home/mfomicheva/miniconda3/envs/eval4nlp/lib/python3.6/site-packages (from wandb->transquest) (5.0.2)\n",
      "Requirement already satisfied: promise<3,>=2.0 in /home/mfomicheva/miniconda3/envs/eval4nlp/lib/python3.6/site-packages (from wandb->transquest) (2.3)\n"
     ]
    },
    {
     "name": "stdout",
     "output_type": "stream",
     "text": [
      "Requirement already satisfied: docker-pycreds>=0.4.0 in /home/mfomicheva/miniconda3/envs/eval4nlp/lib/python3.6/site-packages (from wandb->transquest) (0.4.0)\n",
      "Requirement already satisfied: psutil>=5.0.0 in /home/mfomicheva/miniconda3/envs/eval4nlp/lib/python3.6/site-packages (from wandb->transquest) (5.8.0)\n",
      "Requirement already satisfied: gitdb<5,>=4.0.1 in /home/mfomicheva/miniconda3/envs/eval4nlp/lib/python3.6/site-packages (from GitPython>=1.0.0->wandb->transquest) (4.0.7)\n",
      "Requirement already satisfied: smmap<5,>=3.0.1 in /home/mfomicheva/miniconda3/envs/eval4nlp/lib/python3.6/site-packages (from gitdb<5,>=4.0.1->GitPython>=1.0.0->wandb->transquest) (4.0.0)\n",
      "Requirement already satisfied: lime in /home/mfomicheva/miniconda3/envs/eval4nlp/lib/python3.6/site-packages (0.2.0.1)\n",
      "Requirement already satisfied: matplotlib in /home/mfomicheva/miniconda3/envs/eval4nlp/lib/python3.6/site-packages (from lime) (3.3.4)\n",
      "Requirement already satisfied: scipy in /home/mfomicheva/miniconda3/envs/eval4nlp/lib/python3.6/site-packages (from lime) (1.5.1)\n",
      "Requirement already satisfied: scikit-learn>=0.18 in /home/mfomicheva/miniconda3/envs/eval4nlp/lib/python3.6/site-packages (from lime) (0.23.1)\n",
      "Requirement already satisfied: numpy in /home/mfomicheva/miniconda3/envs/eval4nlp/lib/python3.6/site-packages (from lime) (1.19.0)\n",
      "Requirement already satisfied: scikit-image>=0.12 in /home/mfomicheva/miniconda3/envs/eval4nlp/lib/python3.6/site-packages (from lime) (0.17.2)\n",
      "Requirement already satisfied: tqdm in /home/mfomicheva/miniconda3/envs/eval4nlp/lib/python3.6/site-packages (from lime) (4.61.0)\n",
      "Requirement already satisfied: imageio>=2.3.0 in /home/mfomicheva/miniconda3/envs/eval4nlp/lib/python3.6/site-packages (from scikit-image>=0.12->lime) (2.9.0)\n",
      "Requirement already satisfied: pillow!=7.1.0,!=7.1.1,>=4.3.0 in /home/mfomicheva/miniconda3/envs/eval4nlp/lib/python3.6/site-packages (from scikit-image>=0.12->lime) (8.2.0)\n",
      "Requirement already satisfied: tifffile>=2019.7.26 in /home/mfomicheva/miniconda3/envs/eval4nlp/lib/python3.6/site-packages (from scikit-image>=0.12->lime) (2020.9.3)\n",
      "Requirement already satisfied: PyWavelets>=1.1.1 in /home/mfomicheva/miniconda3/envs/eval4nlp/lib/python3.6/site-packages (from scikit-image>=0.12->lime) (1.1.1)\n",
      "Requirement already satisfied: networkx>=2.0 in /home/mfomicheva/miniconda3/envs/eval4nlp/lib/python3.6/site-packages (from scikit-image>=0.12->lime) (2.5.1)\n",
      "Requirement already satisfied: pyparsing!=2.0.4,!=2.1.2,!=2.1.6,>=2.0.3 in /home/mfomicheva/miniconda3/envs/eval4nlp/lib/python3.6/site-packages (from matplotlib->lime) (2.4.7)\n",
      "Requirement already satisfied: cycler>=0.10 in /home/mfomicheva/miniconda3/envs/eval4nlp/lib/python3.6/site-packages (from matplotlib->lime) (0.10.0)\n",
      "Requirement already satisfied: python-dateutil>=2.1 in /home/mfomicheva/miniconda3/envs/eval4nlp/lib/python3.6/site-packages (from matplotlib->lime) (2.8.1)\n",
      "Requirement already satisfied: kiwisolver>=1.0.1 in /home/mfomicheva/miniconda3/envs/eval4nlp/lib/python3.6/site-packages (from matplotlib->lime) (1.3.1)\n",
      "Requirement already satisfied: six in /home/mfomicheva/miniconda3/envs/eval4nlp/lib/python3.6/site-packages (from cycler>=0.10->matplotlib->lime) (1.16.0)\n",
      "Requirement already satisfied: decorator<5,>=4.3 in /home/mfomicheva/miniconda3/envs/eval4nlp/lib/python3.6/site-packages (from networkx>=2.0->scikit-image>=0.12->lime) (4.4.2)\n",
      "Requirement already satisfied: joblib>=0.11 in /home/mfomicheva/miniconda3/envs/eval4nlp/lib/python3.6/site-packages (from scikit-learn>=0.18->lime) (1.0.1)\n",
      "Requirement already satisfied: threadpoolctl>=2.0.0 in /home/mfomicheva/miniconda3/envs/eval4nlp/lib/python3.6/site-packages (from scikit-learn>=0.18->lime) (2.1.0)\n"
     ]
    }
   ],
   "source": [
    "# Install required packages\n",
    "\n",
    "!pip3 install -r ../requirements.txt\n",
    "!pip3 install transquest\n",
    "!pip3 install lime"
   ]
  },
  {
   "cell_type": "code",
   "execution_count": 2,
   "metadata": {},
   "outputs": [],
   "source": [
    "import os\n",
    "import sys\n",
    "import numpy as np\n",
    "import json\n",
    "from tqdm import tqdm\n",
    "from scipy.stats import pearsonr\n",
    "from IPython.core.display import display, HTML"
   ]
  },
  {
   "cell_type": "code",
   "execution_count": 3,
   "metadata": {},
   "outputs": [],
   "source": [
    "# Change this according to your set up\n",
    "\n",
    "os.environ['TRANSFORMERS_CACHE'] = 'cache'"
   ]
  },
  {
   "cell_type": "code",
   "execution_count": 4,
   "metadata": {},
   "outputs": [],
   "source": [
    "RESULTS_FNAME = 'results.json'\n",
    "SRC_LANG = 'ro'\n",
    "TGT_LANG = 'en'\n",
    "SPLIT = 'dev'"
   ]
  },
  {
   "cell_type": "markdown",
   "metadata": {},
   "source": [
    "## Load dataset"
   ]
  },
  {
   "cell_type": "code",
   "execution_count": 5,
   "metadata": {},
   "outputs": [],
   "source": [
    "data_dir = f'../data/{SPLIT}/{SRC_LANG}-{TGT_LANG}-{SPLIT}'\n",
    "src = [s.strip() for s in open(f'{data_dir}/{SPLIT}.src').readlines()]\n",
    "tgt = [s.strip() for s in open(f'{data_dir}/{SPLIT}.mt').readlines()]\n",
    "wor = [list(map(int, s.strip().split())) for s in open(f'{data_dir}/{SPLIT}.tgt-tags').readlines()]\n",
    "sen = [float(s.strip()) for s in open(f'{data_dir}/{SPLIT}.da').readlines()]\n",
    "assert len(src) == len(tgt) == len(wor) == len(sen)\n",
    "dataset = {'src': src, 'tgt': tgt, 'word_labels': wor, 'sent_labels': sen}"
   ]
  },
  {
   "cell_type": "markdown",
   "metadata": {},
   "source": [
    "## Load Sentence-Level Model"
   ]
  },
  {
   "cell_type": "code",
   "execution_count": 6,
   "metadata": {},
   "outputs": [
    {
     "name": "stderr",
     "output_type": "stream",
     "text": [
      "/home/mfomicheva/miniconda3/envs/eval4nlp/lib/python3.6/site-packages/torchaudio/backend/utils.py:54: UserWarning: \"sox\" backend is being deprecated. The default backend will be changed to \"sox_io\" backend in 0.8.0 and \"sox\" backend will be removed in 0.9.0. Please migrate to \"sox_io\" backend. Please refer to https://github.com/pytorch/audio/issues/903 for the detail.\n",
      "  '\"sox\" backend is being deprecated. '\n",
      "/home/mfomicheva/miniconda3/envs/eval4nlp/lib/python3.6/site-packages/transquest/algo/sentence_level/monotransquest/run_model.py:252: UserWarning: use_multiprocessing automatically disabled as xlmroberta fails when using multiprocessing for feature conversion.\n",
      "  f\"use_multiprocessing automatically disabled as {model_type}\"\n"
     ]
    },
    {
     "data": {
      "application/vnd.jupyter.widget-view+json": {
       "model_id": "6edab1e8275c4cdd835bf57eac974bea",
       "version_major": 2,
       "version_minor": 0
      },
      "text/plain": [
       "  0%|          | 0/2 [00:00<?, ?it/s]"
      ]
     },
     "metadata": {},
     "output_type": "display_data"
    },
    {
     "data": {
      "application/vnd.jupyter.widget-view+json": {
       "model_id": "b0258c63412f473b95d6509236d9e383",
       "version_major": 2,
       "version_minor": 0
      },
      "text/plain": [
       "  0%|          | 0/1 [00:00<?, ?it/s]"
      ]
     },
     "metadata": {},
     "output_type": "display_data"
    },
    {
     "name": "stdout",
     "output_type": "stream",
     "text": [
      "(-1.0, 1.0)\n"
     ]
    }
   ],
   "source": [
    "import torch\n",
    "from transquest.algo.sentence_level.monotransquest.run_model import MonoTransQuestModel\n",
    "\n",
    "# Load model\n",
    "model = MonoTransQuestModel(\n",
    "    'xlmroberta',\n",
    "    f'TransQuest/monotransquest-da-{SRC_LANG}_{TGT_LANG}-wiki', num_labels=1, use_cuda=torch.cuda.is_available()\n",
    ")\n",
    "\n",
    "# Evaluate predictions on the dataset\n",
    "predictions, raw_outputs = model.predict(list(map(list, zip(dataset['src'], dataset['tgt']))))\n",
    "print(pearsonr(predictions, dataset['sent_labels']))"
   ]
  },
  {
   "cell_type": "markdown",
   "metadata": {},
   "source": [
    "## LIME Explanation"
   ]
  },
  {
   "cell_type": "code",
   "execution_count": 7,
   "metadata": {},
   "outputs": [],
   "source": [
    "from lime.lime_text import LimeTextExplainer\n",
    "\n",
    "explainer = LimeTextExplainer(class_names=['score', 'score'], bow=False, split_expression = ' ')\n",
    "\n",
    "def explain_instance(model, text_a, text_b):\n",
    "    def predict_proba(texts):\n",
    "        text_src = [text_a] * len(texts)\n",
    "        to_predict = list(zip(text_src, texts))\n",
    "        to_predict = list(map(list, to_predict))\n",
    "        preds, _ = model.predict(to_predict)\n",
    "        return np.vstack((preds, preds)).T\n",
    "    \n",
    "    predictions, raw_outputs = model.predict([[text_a, text_b]])\n",
    "    exp = explainer.explain_instance(text_b, predict_proba, num_features=len(text_b.split()), labels=(1, ))\n",
    "    return predictions, exp.as_map()"
   ]
  },
  {
   "cell_type": "code",
   "execution_count": 15,
   "metadata": {
    "scrolled": true
   },
   "outputs": [],
   "source": [
    "def explain_dataset():\n",
    "    results = []\n",
    "    for idx in tqdm(range(len(dataset['src']))):\n",
    "        pred_score, expl = explain_instance(model, dataset['src'][idx], dataset['tgt'][idx])\n",
    "        expl = expl[1]\n",
    "        assert len(expl) == len(dataset['tgt'][idx].split(' '))\n",
    "        feature_maps = np.zeros(len(expl))\n",
    "        for k, v in expl:\n",
    "            feature_maps[k] = v * -1\n",
    "        results.append(\n",
    "            {\n",
    "                'pred': float(pred_score),\n",
    "                'expl': list(feature_maps),\n",
    "                'ground_truth_word': dataset['word_labels'][idx],\n",
    "                'ground_truth_sent': dataset['sent_labels'][idx],\n",
    "            }\n",
    "        )\n",
    "    json.dump(results, open(RESULTS_FNAME, 'w'))\n",
    "    return results\n",
    "              \n",
    "\n",
    "if not os.path.exists(RESULTS_FNAME):\n",
    "    results = explain_dataset()\n",
    "else:\n",
    "    results = json.load(open(RESULTS_FNAME))"
   ]
  },
  {
   "cell_type": "markdown",
   "metadata": {},
   "source": [
    "## Evaluate LIME Explanations"
   ]
  },
  {
   "cell_type": "code",
   "execution_count": 16,
   "metadata": {},
   "outputs": [],
   "source": [
    "module_path = os.path.abspath(os.path.join('..'))\n",
    "if module_path not in sys.path:\n",
    "    sys.path.append(module_path)\n",
    "    \n",
    "from scripts.evaluate import evaluate_word_level"
   ]
  },
  {
   "cell_type": "code",
   "execution_count": 17,
   "metadata": {},
   "outputs": [
    {
     "name": "stdout",
     "output_type": "stream",
     "text": [
      "AUC score: 0.353\n",
      "AP score: 0.300\n",
      "Recall at top-K: 0.310\n"
     ]
    }
   ],
   "source": [
    "gold_expls = [item['ground_truth_word'] for item in results]\n",
    "model_expls = [item['expl'] for item in results]\n",
    "\n",
    "evaluate_word_level(gold_expls, model_expls)"
   ]
  },
  {
   "cell_type": "markdown",
   "metadata": {},
   "source": [
    "## Visualizing the results"
   ]
  },
  {
   "cell_type": "code",
   "execution_count": 18,
   "metadata": {},
   "outputs": [],
   "source": [
    "def colorize_twoway(words, color_array, max_width_shown=600):\n",
    "    # words is a list of words\n",
    "    # color_array is an array of numbers between 0 and 1 of length equal to words\n",
    "    template_pos = '<span class=\"barcode\"; style=\"color: black; background-color: rgba(255, 0, 0, {}); display:inline-block;\">{}</span>'\n",
    "    template_neg = '<span class=\"barcode\"; style=\"color: black; background-color: rgba(0, 0, 255, {}); display:inline-block;\">{}</span>'\n",
    "    colored_string = ''\n",
    "    for word, color in zip(words, color_array):\n",
    "        if color > 0:\n",
    "            colored_string += template_pos.format(color, '&nbsp' + word + '&nbsp')\n",
    "        else:\n",
    "            colored_string += template_neg.format(-color, '&nbsp' + word + '&nbsp')\n",
    "    return '<div style=\"width:%dpx\">' % max_width_shown + colored_string + '</div>'"
   ]
  },
  {
   "cell_type": "code",
   "execution_count": 19,
   "metadata": {},
   "outputs": [],
   "source": [
    "def display_example(idx):\n",
    "    res = results[idx]\n",
    "    score, expl = res['pred'], res['expl']\n",
    "    src_txt, tgt_txt = dataset['src'][idx], dataset['tgt'][idx]\n",
    "    gt_label, gt_words = dataset['sent_labels'][idx], dataset['word_labels'][idx] \n",
    "    expl_adjusted = np.array(expl) / max(np.abs(np.array(expl)))\n",
    "    \n",
    "    print(f'Example id: {idx}')\n",
    "    print(f'Source: {src_txt}')\n",
    "    print(f'Target: {tgt_txt}')\n",
    "    print(f'Ground truth: {gt_label}')\n",
    "    print(f'Predicted: {score}')\n",
    "    print(f'Ground truth annotation')\n",
    "    display(HTML(colorize_twoway(tgt_txt.split(), gt_words)))\n",
    "    print(f'LIME scores')\n",
    "    display(HTML(colorize_twoway(tgt_txt.split(), expl_adjusted)))\n",
    "    print('-'*50)"
   ]
  },
  {
   "cell_type": "code",
   "execution_count": 20,
   "metadata": {},
   "outputs": [
    {
     "name": "stdout",
     "output_type": "stream",
     "text": [
      "Example id: 1\n",
      "Source: Dischetele sunt numite dischete de 4 MB , referitor la capacitatea lor neformatată .\n",
      "Target: The floor coverings are called 4 MB disks related to their unformatable capacity .\n",
      "Ground truth: 34.833333333333336\n",
      "Predicted: 0.556640625\n",
      "Ground truth annotation\n"
     ]
    },
    {
     "data": {
      "text/html": [
       "<div style=\"width:600px\"><span class=\"barcode\"; style=\"color: black; background-color: rgba(0, 0, 255, 0); display:inline-block;\">&nbspThe&nbsp</span><span class=\"barcode\"; style=\"color: black; background-color: rgba(255, 0, 0, 1); display:inline-block;\">&nbspfloor&nbsp</span><span class=\"barcode\"; style=\"color: black; background-color: rgba(255, 0, 0, 1); display:inline-block;\">&nbspcoverings&nbsp</span><span class=\"barcode\"; style=\"color: black; background-color: rgba(0, 0, 255, 0); display:inline-block;\">&nbspare&nbsp</span><span class=\"barcode\"; style=\"color: black; background-color: rgba(0, 0, 255, 0); display:inline-block;\">&nbspcalled&nbsp</span><span class=\"barcode\"; style=\"color: black; background-color: rgba(0, 0, 255, 0); display:inline-block;\">&nbsp4&nbsp</span><span class=\"barcode\"; style=\"color: black; background-color: rgba(0, 0, 255, 0); display:inline-block;\">&nbspMB&nbsp</span><span class=\"barcode\"; style=\"color: black; background-color: rgba(0, 0, 255, 0); display:inline-block;\">&nbspdisks&nbsp</span><span class=\"barcode\"; style=\"color: black; background-color: rgba(0, 0, 255, 0); display:inline-block;\">&nbsprelated&nbsp</span><span class=\"barcode\"; style=\"color: black; background-color: rgba(0, 0, 255, 0); display:inline-block;\">&nbspto&nbsp</span><span class=\"barcode\"; style=\"color: black; background-color: rgba(0, 0, 255, 0); display:inline-block;\">&nbsptheir&nbsp</span><span class=\"barcode\"; style=\"color: black; background-color: rgba(255, 0, 0, 1); display:inline-block;\">&nbspunformatable&nbsp</span><span class=\"barcode\"; style=\"color: black; background-color: rgba(0, 0, 255, 0); display:inline-block;\">&nbspcapacity&nbsp</span><span class=\"barcode\"; style=\"color: black; background-color: rgba(0, 0, 255, 0); display:inline-block;\">&nbsp.&nbsp</span></div>"
      ],
      "text/plain": [
       "<IPython.core.display.HTML object>"
      ]
     },
     "metadata": {},
     "output_type": "display_data"
    },
    {
     "name": "stdout",
     "output_type": "stream",
     "text": [
      "LIME scores\n"
     ]
    },
    {
     "data": {
      "text/html": [
       "<div style=\"width:600px\"><span class=\"barcode\"; style=\"color: black; background-color: rgba(0, 0, 255, 0.13751497649231842); display:inline-block;\">&nbspThe&nbsp</span><span class=\"barcode\"; style=\"color: black; background-color: rgba(0, 0, 255, 1.0); display:inline-block;\">&nbspfloor&nbsp</span><span class=\"barcode\"; style=\"color: black; background-color: rgba(0, 0, 255, 0.6499189515343188); display:inline-block;\">&nbspcoverings&nbsp</span><span class=\"barcode\"; style=\"color: black; background-color: rgba(255, 0, 0, 0.35659607057750103); display:inline-block;\">&nbspare&nbsp</span><span class=\"barcode\"; style=\"color: black; background-color: rgba(255, 0, 0, 0.49065866425385446); display:inline-block;\">&nbspcalled&nbsp</span><span class=\"barcode\"; style=\"color: black; background-color: rgba(255, 0, 0, 0.5342941863079615); display:inline-block;\">&nbsp4&nbsp</span><span class=\"barcode\"; style=\"color: black; background-color: rgba(255, 0, 0, 0.5088014507056005); display:inline-block;\">&nbspMB&nbsp</span><span class=\"barcode\"; style=\"color: black; background-color: rgba(255, 0, 0, 0.7734495203146288); display:inline-block;\">&nbspdisks&nbsp</span><span class=\"barcode\"; style=\"color: black; background-color: rgba(255, 0, 0, 0.25899288708021595); display:inline-block;\">&nbsprelated&nbsp</span><span class=\"barcode\"; style=\"color: black; background-color: rgba(255, 0, 0, 0.11611927826065818); display:inline-block;\">&nbspto&nbsp</span><span class=\"barcode\"; style=\"color: black; background-color: rgba(255, 0, 0, 0.1545731348018888); display:inline-block;\">&nbsptheir&nbsp</span><span class=\"barcode\"; style=\"color: black; background-color: rgba(255, 0, 0, 0.7188744573085929); display:inline-block;\">&nbspunformatable&nbsp</span><span class=\"barcode\"; style=\"color: black; background-color: rgba(255, 0, 0, 0.5689389414535398); display:inline-block;\">&nbspcapacity&nbsp</span><span class=\"barcode\"; style=\"color: black; background-color: rgba(0, 0, 255, 0.016916131759004027); display:inline-block;\">&nbsp.&nbsp</span></div>"
      ],
      "text/plain": [
       "<IPython.core.display.HTML object>"
      ]
     },
     "metadata": {},
     "output_type": "display_data"
    },
    {
     "name": "stdout",
     "output_type": "stream",
     "text": [
      "--------------------------------------------------\n"
     ]
    }
   ],
   "source": [
    "idx = 1\n",
    "display_example(idx)"
   ]
  },
  {
   "cell_type": "code",
   "execution_count": null,
   "metadata": {},
   "outputs": [],
   "source": []
  }
 ],
 "metadata": {
  "kernelspec": {
   "display_name": "Python 3",
   "language": "python",
   "name": "python3"
  },
  "language_info": {
   "codemirror_mode": {
    "name": "ipython",
    "version": 3
   },
   "file_extension": ".py",
   "mimetype": "text/x-python",
   "name": "python",
   "nbconvert_exporter": "python",
   "pygments_lexer": "ipython3",
   "version": "3.6.13"
  }
 },
 "nbformat": 4,
 "nbformat_minor": 4
}
